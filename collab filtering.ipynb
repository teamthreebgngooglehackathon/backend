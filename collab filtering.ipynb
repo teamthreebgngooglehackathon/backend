{
 "cells": [
  {
   "cell_type": "code",
   "execution_count": null,
   "metadata": {},
   "outputs": [],
   "source": [
    "import pandas as pd\n",
    "import matplotlib.pyplot as plt\n",
    "import numpy as np\n",
    "import sys\n",
    "print(sys.path)\n",
    "import time\n",
    "import random"
   ]
  },
  {
   "cell_type": "code",
   "execution_count": null,
   "metadata": {},
   "outputs": [],
   "source": [
    "df=pd.read_csv(\"results.csv\")\n",
    "df1=pd.read_csv(\"results/survey_results_public.csv\")\n",
    "print(df.head())\n",
    "l=list(df[\"company\"])\n",
    "print(type(l))"
   ]
  },
  {
   "cell_type": "code",
   "execution_count": null,
   "metadata": {},
   "outputs": [],
   "source": [
    "companies=set(l)\n",
    "print(len(companies))\n",
    "#print(companies)\n",
    "companies=list(companies)\n",
    "len(companies)\n",
    "print(companies[1000])"
   ]
  },
  {
   "cell_type": "code",
   "execution_count": null,
   "metadata": {},
   "outputs": [],
   "source": [
    "#Assign random companies to each respondent\n",
    "cbf = pd.DataFrame(df1['Respondent'])\n",
    "import time\n",
    "start=time.time()\n",
    "for i in range(98855):\n",
    "    r=random.randint(1,4291)\n",
    "    cbf.loc[i,\"company\"]=l[r]\n",
    "end=time.time()\n",
    "print(end-start)\n",
    "print(cbf.head())"
   ]
  },
  {
   "cell_type": "code",
   "execution_count": null,
   "metadata": {},
   "outputs": [],
   "source": [
    "cbf.to_csv(\"results/colabdata.csv\")"
   ]
  },
  {
   "cell_type": "code",
   "execution_count": null,
   "metadata": {},
   "outputs": [],
   "source": [
    "#merge all the dataset having skills from user profile.\n",
    "dflang=pd.read_csv(\"results/LanguageWorkedwith.csv\")\n",
    "dfdata=pd.read_csv(\"results/DatabaseWorkedWith.csv\")\n",
    "dfplat=pd.read_csv(\"results/PlatformWorkedWith.csv\")\n",
    "dfframe=pd.read_csv(\"results/FrameworkWorkedWith.csv\")\n",
    "dfdev=pd.read_csv(\"results/DevType.csv\")\n",
    "dfmerge=pd.merge(dflang,dfdata,on=\"Respondent\")\n",
    "dfmerge=pd.merge(dfmerge,dfplat,on=\"Respondent\")\n",
    "dfmerge=pd.merge(dfmerge,dfframe,on=\"Respondent\")\n",
    "dfmerge=pd.merge(dfmerge,dfdev,on=\"Respondent\")\n",
    "#dfmerge.to_csv(\"./data/collaborative filtering/userskills.csv\")"
   ]
  },
  {
   "cell_type": "code",
   "execution_count": null,
   "metadata": {},
   "outputs": [],
   "source": [
    "import numpy as np\n",
    "from numpy import array\n",
    "dfuser=pd.read_csv(\"results/userskills.csv\")\n",
    "#remove duplicate columns during merge\n",
    "dfuser = dfuser.loc[:,~dfuser.columns.duplicated()]\n",
    "dfuser=dfuser.fillna(0)\n",
    "dfuser.shape\n",
    "dfuser.head()\n",
    "#remove rows with less than 5 skills\n",
    "dfuser=dfuser.dropna(thresh=5)\n",
    "dfuser.shape\n",
    "m=(np.asscalar(np.int32(max(dfuser[\"Respondent\"]))))\n",
    "print(m)\n",
    "print(type(m))\n",
    "#Build  a dictionary of respondent id's as keys  and thier skills as values\n",
    "temp=[0]*m\n",
    "vector=np.array(temp)\n",
    "count=1\n",
    "star=time.time()\n",
    "d=dict()\n",
    "for row in dfuser.iterrows():\n",
    "        index,data=row\n",
    "        l=list()\n",
    "        #l=[data.values[0],list(data.values[1:])]\n",
    "        s=np.asscalar(np.int32(data.values[0]))\n",
    "        d[s]=np.array(list(data.values[1:]))\n",
    "        #print(type(data))\n",
    "end=time.time()\n",
    "print(d[1])\n",
    "print(end-star)\n"
   ]
  },
  {
   "cell_type": "code",
   "execution_count": null,
   "metadata": {},
   "outputs": [],
   "source": [
    "#Build the user user similarity matrix based on thier skill vectors\n",
    "#initialise a user user matrix uptill respondent number 5000\n",
    "sim=list()\n",
    "s=time.time()\n",
    "for i in range(5000):\n",
    "        l=list()\n",
    "        l=[0]*5000\n",
    "        sim.append(l)\n",
    "e=time.time()\n",
    "print(e-s)"
   ]
  },
  {
   "cell_type": "code",
   "execution_count": null,
   "metadata": {},
   "outputs": [],
   "source": [
    "count1=1\n",
    "count2=1\n",
    "t=time.time()\n",
    "for key, value in d.items():\n",
    "        if(key<5000):\n",
    "            print(key)\n",
    "            b=(np.linalg.norm(value))\n",
    "            for key2,value2 in d.items():\n",
    "                if(key2<5000):\n",
    "                    #print(key2)\n",
    "                    a=np.dot(d[key],d[key2])\n",
    "                    ans=a/(np.linalg.norm(value2)*b)\n",
    "                    sim[key][key2]=ans\n",
    "                    #count2+=1\n",
    "            #count1+=1\n",
    "e=time.time()\n",
    "print(\"total time for building similarity matrix \")\n"
   ]
  },
  {
   "cell_type": "code",
   "execution_count": null,
   "metadata": {},
   "outputs": [],
   "source": [
    "print(e-s)\n",
    "print(sim[1][:10])\n",
    "# the similarity of user 1 with others \n",
    "print((max(sim[1][2:])))\n",
    "print(sim[1].index(max(sim[1][2:])))\n",
    "#user 1 is most similar to user 4653 with similarity 0.71 in skills"
   ]
  },
  {
   "cell_type": "code",
   "execution_count": null,
   "metadata": {},
   "outputs": [],
   "source": [
    "#Lets check with the random jobs given to the users .\n",
    "dfjob=pd.read_csv(\"results/colabdata.csv\")\n",
    "#Recommend user 3 a job based on another user who has almost the same skill as him.\n",
    "print(\"Respondent 3 is working in \")\n",
    "print(dfjob.loc[dfjob.Respondent==3][\"company\"].values)\n",
    "\n",
    "m1=max(sim[3][:3])\n",
    "m2=max(sim[3][4:])\n",
    "ma=max(m1,m2)\n",
    "suser=sim[3].index(ma)\n",
    "#print(suser) #user 3265 is very similar to user 3 and hence we can recommend user 3265 job to user 3.\n",
    "print(\"Respondent \",suser,\"is working in\")\n",
    "print(dfjob.loc[dfjob.Respondent==suser][\"company\"].values)"
   ]
  },
  {
   "cell_type": "code",
   "execution_count": null,
   "metadata": {},
   "outputs": [],
   "source": [
    "#For buiding  collaborative filtering based on The Content based recommendations for the first 200 Respondents. \n",
    "dfcont=pd.read_csv(\"results/recommendations.csv\")\n",
    "sim=list()\n",
    "s=time.time()\n",
    "for i in range(200):\n",
    "        l=list()\n",
    "        l=[0]*200\n",
    "        sim.append(l)\n",
    "e=time.time()\n",
    "print(e-s)\n",
    "t=time.time()\n",
    "print(\"Building the similarity matrix....\\n\")\n",
    "for key, value in d.items():\n",
    "        if(key<200):\n",
    "            #print(key)\n",
    "            b=(np.linalg.norm(value))\n",
    "            for key2,value2 in d.items():\n",
    "                if(key2<200):\n",
    "                    #print(key2)\n",
    "                    a=np.dot(d[key],d[key2])\n",
    "                    ans=a/(np.linalg.norm(value2)*b)\n",
    "                    sim[key][key2]=ans\n",
    "                    #count2+=1\n",
    "            #count1+=1\n",
    "e=time.time()"
   ]
  },
  {
   "cell_type": "code",
   "execution_count": null,
   "metadata": {},
   "outputs": [],
   "source": [
    "#Recommend user 3 a job based on another user who has almost the same skill as him.\n",
    "print(\"Respondent 3 was recommended jobs from content based filtering in \")\n",
    "print(dfcont.loc[dfcont.Respondent==3][\"company\"].values)\n",
    "print(\"Respondent 3 was recommended job titles from content based filtering \")\n",
    "print(dfcont.loc[dfcont.Respondent==3][\"jobtitle\"].values)\n",
    "print(\"\\n\")\n",
    "m1=max(sim[3][:3])\n",
    "m2=max(sim[3][4:])\n",
    "ma=max(m1,m2)\n",
    "suser=sim[3].index(ma)\n",
    "#print(suser) #user 3265 is very similar to user 3 and hence we can recommend user 3265 job to user 3.\n",
    "print(\"Respondent \",suser,\"was most similiar to respondent 3\\n\")\n",
    "print(\"Based on respondent \",suser,\" the jobs recommended to 3 are \")\n",
    "print(dfcont.loc[dfcont.Respondent==suser][\"company\"].values)\n",
    "print(\"The recommended job titles are \")\n",
    "print(dfcont.loc[dfcont.Respondent==suser][\"jobtitle\"].values)\n"
   ]
  },
  {
   "cell_type": "code",
   "execution_count": null,
   "metadata": {},
   "outputs": [],
   "source": []
  }
 ],
 "metadata": {
  "kernelspec": {
   "display_name": "Python 3",
   "language": "python",
   "name": "python3"
  },
  "language_info": {
   "codemirror_mode": {
    "name": "ipython",
    "version": 3
   },
   "file_extension": ".py",
   "mimetype": "text/x-python",
   "name": "python",
   "nbconvert_exporter": "python",
   "pygments_lexer": "ipython3",
   "version": "3.7.6"
  }
 },
 "nbformat": 4,
 "nbformat_minor": 2
}
