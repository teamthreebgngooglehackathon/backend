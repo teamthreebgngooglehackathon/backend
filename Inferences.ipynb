{
 "cells": [
  {
   "cell_type": "code",
   "execution_count": null,
   "metadata": {},
   "outputs": [],
   "source": [
    "import pandas as pd\n",
    "import numpy as np\n",
    "import matplotlib.pyplot as plt\n",
    "import plotly.plotly as py\n",
    "import plotly.tools as tls\n",
    "\n",
    "from matplotlib import pyplot"
   ]
  },
  {
   "cell_type": "code",
   "execution_count": null,
   "metadata": {},
   "outputs": [],
   "source": [
    "#Most popular languages for users\n",
    "df=pd.read_csv(\"results/languages_profile_user.csv\",index_col='Respondent')\n",
    "df=df.fillna(0)\n",
    "languages_user=dict()\n",
    "for i in df.columns:\n",
    "    languages_user[i]=0\n",
    "for i in df.index[:10000]:\n",
    "    lang=df.loc[i,:]\n",
    "    #print(lang)\n",
    "    for l in lang.index:\n",
    "        if(lang.loc[l]==1.0):\n",
    "            #print(\"Yesss\")\n",
    "            languages_user[l]+=1\n",
    "            \n",
    "# languages_job=dict()\n",
    "# for i in df.columns:\n",
    "#     languages_job[i]=0\n",
    "# for i in df.index[:10000]:\n",
    "#     lang=df.loc[i,:]\n",
    "#     for l in lang.index:\n",
    "#         if(lang.loc[l]!=0):\n",
    "#             languages_job[l]+=1\n",
    "#print(languages)    \n",
    "    \n",
    "    \n",
    "#Popular frameworks"
   ]
  },
  {
   "cell_type": "code",
   "execution_count": null,
   "metadata": {},
   "outputs": [],
   "source": [
    "ll=[]\n",
    "def plotg(dictionary):\n",
    "    s=sorted(dictionary.items(), key=lambda x:x[1], reverse=True )\n",
    "\n",
    "#import operator\n",
    "#s = sorted(languages_user.items(), key=operator.itemgetter(1), reverse=True)\n",
    "#print(s)\n",
    "#sort(languages_user)\n",
    "#s=languages_user\n",
    "#print(s)\n",
    "    s=s[0:10]\n",
    "    global ll\n",
    "    #l1=s.copy()\n",
    "    print(s)\n",
    "    print(type(s))\n",
    "\n",
    "    x=[]\n",
    "    y=[]\n",
    "    for i in range(10):\n",
    "        x.append(s[i][0])\n",
    "        y.append(s[i][1])\n",
    "\n",
    "    \n",
    "    index=np.arange(len(x))\n",
    "    plt.bar(index,y)\n",
    "    return s,x,y;\n",
    "    #plt.show()\n",
    "\n",
    "l1,x1,y1=plotg(languages_user)\n",
    "plt.xlabel('Languages')\n",
    "plt.ylabel('Frequency')\n",
    "plt.xticks(index, x)\n",
    "plt.show()"
   ]
  },
  {
   "cell_type": "code",
   "execution_count": null,
   "metadata": {},
   "outputs": [],
   "source": [
    "#plt.bar(range(len(languages_user)), list(languages_user.values()), align='center')\n",
    "#plt.xticks(range(len(languages_user)), list(languages_user.keys()))\n",
    "#plt.show()"
   ]
  },
  {
   "cell_type": "code",
   "execution_count": null,
   "metadata": {},
   "outputs": [],
   "source": [
    "df=pd.read_csv(\"./data/languages_profile_job.csv\",index_col='uniq_id')\n",
    "df=df.fillna(0)\n",
    "languages_job=dict()\n",
    "for i in df.columns:\n",
    "    languages_job[i]=0\n",
    "for i in df.index[:10000]:\n",
    "    lang=df.loc[i,:]\n",
    "    #print(lang)\n",
    "    for l in lang.index:\n",
    "        if(lang.loc[l]==1.0):\n",
    "            #print(\"Yesss\")\n",
    "            languages_job[l]+=1"
   ]
  },
  {
   "cell_type": "code",
   "execution_count": null,
   "metadata": {},
   "outputs": [],
   "source": [
    "print(ll)"
   ]
  },
  {
   "cell_type": "code",
   "execution_count": null,
   "metadata": {},
   "outputs": [],
   "source": [
    "#print(languages_job)\n",
    "#s=sorted(languages_job.items(), key=lambda x:x[1], reverse=True )\n",
    "#s=s[0:10]\n",
    "#print(s)\n"
   ]
  },
  {
   "cell_type": "code",
   "execution_count": null,
   "metadata": {},
   "outputs": [],
   "source": [
    "l2=[]\n",
    "l2,x2,y2=plotg(languages_job)\n",
    "#df1=pd.Dataframe()\n",
    "print(x2)\n",
    "print(y2)\n",
    "#print(l2)\n",
    "#print(type(l2[0]))\n",
    "#plt.xlabel('Languages')\n",
    "#plt.ylabel('Frequency')\n",
    "#plt.xticks(index, x)\n",
    "#plt.show()"
   ]
  },
  {
   "cell_type": "code",
   "execution_count": null,
   "metadata": {},
   "outputs": [],
   "source": [
    "print(ll+l2)"
   ]
  },
  {
   "cell_type": "code",
   "execution_count": null,
   "metadata": {},
   "outputs": [],
   "source": [
    "print(x1)\n",
    "print(x2)\n",
    "print(y1)\n",
    "print(y2)"
   ]
  },
  {
   "cell_type": "code",
   "execution_count": null,
   "metadata": {},
   "outputs": [],
   "source": [
    "print(l1) #user\n",
    "print(l2) #job\n",
    "l2_lang=[x[0] for x in l2]\n",
    "l1_lang=[x[0] for x in l1]\n",
    "for i,j in l1:\n",
    "    if i not in l2_lang:\n",
    "        k=languages_job[i]\n",
    "        l2.append((i,k))\n",
    "for i,j in l2:\n",
    "    if i not in l1_lang:\n",
    "        m=languages_user[i]\n",
    "        l1.append((i,m))"
   ]
  },
  {
   "cell_type": "code",
   "execution_count": null,
   "metadata": {},
   "outputs": [],
   "source": [
    "log = plt.figure()\n",
    "l1=sorted(l1,key=lambda x:x[0])\n",
    "l2=sorted(l2,key=lambda x:x[0])\n",
    "l1_data=[x[1] for x in l1]\n",
    "l2_data=[x[1] for x in l2]\n",
    "data =list(zip(l1_data,l2_data))\n",
    "l1_lang=[x[0] for x in l1]\n",
    "pyplot.xlabel(\"Languages\")\n",
    "pyplot.ylabel(\"Number of users\")\n",
    "pyplot.title(\"Popularity of languages\")\n",
    "#pylab.gca().set_yscale('log')\n",
    "\n",
    "dim = len(data[0])\n",
    "w = 0.75\n",
    "dimw = w / dim\n",
    "\n",
    "x = np.arange(len(data))\n",
    "for i in range(len(data[0])) :\n",
    "    y = [d[i] for d in data]\n",
    "    b = pyplot.bar(x + i * dimw, y, dimw, bottom=0.001)\n",
    "pyplot.xticks(x,l1_lang)\n",
    "#pylab.gca().set_ylim( (0.001,1000))\n",
    "\n",
    "plotly_fig = tls.mpl_to_plotly(log)\n",
    "py.iplot(plotly_fig, filename='mpl-log')"
   ]
  },
  {
   "cell_type": "code",
   "execution_count": null,
   "metadata": {},
   "outputs": [],
   "source": [
    "l1_lang"
   ]
  },
  {
   "cell_type": "code",
   "execution_count": null,
   "metadata": {},
   "outputs": [],
   "source": [
    "def plotg(dictionary):\n",
    "    s=sorted(dictionary.items(), key=lambda x:x[1], reverse=True )\n",
    "    s=s[0:10]\n",
    "    global ll\n",
    "    #l1=s.copy()\n",
    "    print(s)\n",
    "    print(type(s))\n",
    "\n",
    "    x=[]\n",
    "    y=[]\n",
    "    for i in range(10):\n",
    "        x.append(s[i][0])\n",
    "        y.append(s[i][1])\n",
    "    index=np.arange(len(x))\n",
    "    plt.bar(index,y)\n",
    "    return s,x,y;\n",
    "df=pd.read_csv(\"./data/domain_user_profile.csv\",index_col='Respondent')\n",
    "df=df.fillna(0)\n",
    "languages_user=dict()\n",
    "for i in df.columns:\n",
    "    languages_user[i]=0\n",
    "for i in df.index[:20000]:\n",
    "    lang=df.loc[i,:]\n",
    "    #print(lang)\n",
    "    for l in lang.index:\n",
    "        if(lang.loc[l]==1.0):\n",
    "            #print(\"Yesss\")\n",
    "            languages_user[l]+=1\n",
    "l1=[]            \n",
    "l1,x1,y1=plotg(languages_user)\n",
    "df=pd.read_csv(\"results/domain_job_profile.csv\",index_col='uniq_id')\n",
    "df=df.fillna(0)\n",
    "languages_job=dict()\n",
    "for i in df.columns:\n",
    "    languages_job[i]=0\n",
    "for i in df.index[:20000]:\n",
    "    lang=df.loc[i,:]\n",
    "    #print(lang)\n",
    "    for l in lang.index:\n",
    "        if(lang.loc[l]==1.0 and lang.loc[l]>=0.5):\n",
    "            #print(\"Yesss\")\n",
    "            languages_job[l]+=1\n",
    "l2=[]\n",
    "l2,x2,y2=plotg(languages_job)"
   ]
  },
  {
   "cell_type": "code",
   "execution_count": null,
   "metadata": {},
   "outputs": [],
   "source": [
    "print(l1) #user\n",
    "print(l2) #job\n",
    "l1=[x for x in l1 if x[0]!='Student']\n",
    "l2_lang=[x[0] for x in l2]\n",
    "l1_lang=[x[0] for x in l1]\n",
    "for i,j in l1:\n",
    "    if i not in l2_lang:\n",
    "        k=languages_job[i]\n",
    "        l2.append((i,k))\n",
    "for i,j in l2:\n",
    "    if i not in l1_lang:\n",
    "        m=languages_user[i]\n",
    "        l1.append((i,m))\n",
    "log = plt.figure()\n",
    "l1=sorted(l1,key=lambda x:x[0])\n",
    "l2=sorted(l2,key=lambda x:x[0])\n",
    "l1_data=[x[1] for x in l1]\n",
    "l2_data=[x[1] for x in l2]\n",
    "data =list(zip(l1_data,l2_data))\n",
    "l1_lang=[x[0] for x in l1]\n",
    "pyplot.xlabel(\"Domains\")\n",
    "pyplot.ylabel(\"Number of users\")\n",
    "pyplot.title(\"Popularity of domains\")\n",
    "#pylab.gca().set_yscale('log')\n",
    "\n",
    "dim = len(data[0])\n",
    "w = 0.75\n",
    "dimw = w / dim\n",
    "\n",
    "x = np.arange(len(data))\n",
    "for i in range(len(data[0])) :\n",
    "    y = [d[i] for d in data]\n",
    "    b = pyplot.bar(x + i * dimw, y, dimw, bottom=0.001)\n",
    "pyplot.xticks(x,l1_lang)\n",
    "#pylab.gca().set_ylim( (0.001,1000))\n",
    "\n",
    "plotly_fig = tls.mpl_to_plotly(log)\n",
    "py.iplot(plotly_fig, filename='mpl-log')"
   ]
  },
  {
   "cell_type": "code",
   "execution_count": null,
   "metadata": {},
   "outputs": [],
   "source": [
    "l1_lang"
   ]
  }
 ],
 "metadata": {
  "kernelspec": {
   "display_name": "Python 3",
   "language": "python",
   "name": "python3"
  },
  "language_info": {
   "codemirror_mode": {
    "name": "ipython",
    "version": 3
   },
   "file_extension": ".py",
   "mimetype": "text/x-python",
   "name": "python",
   "nbconvert_exporter": "python",
   "pygments_lexer": "ipython3",
   "version": "3.7.6"
  }
 },
 "nbformat": 4,
 "nbformat_minor": 2
}
