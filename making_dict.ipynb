{
 "cells": [
  {
   "cell_type": "code",
   "execution_count": null,
   "metadata": {},
   "outputs": [],
   "source": [
    "import numpy as np\n",
    "import pandas as pd"
   ]
  },
  {
   "cell_type": "code",
   "execution_count": null,
   "metadata": {},
   "outputs": [],
   "source": [
    "user_df=pd.read_csv(\"results/survey_results_public.csv\")\n",
    "platforms_unclean=user_df.loc[:,\"PlatformWorkedWith\"].tolist()\n",
    "platforms_unclean_next=user_df.loc[:,\"PlatformDesireNextYear\"].tolist()\n",
    "platforms=[]\n",
    "for string1,string2 in list(zip(platforms_unclean,platforms_unclean_next)):\n",
    "    if(not pd.isnull(string1)):\n",
    "        ele=string1.split(\";\")\n",
    "        for plat in ele:\n",
    "            if(plat not in platforms):\n",
    "                platforms.append(plat)\n",
    "    if(not pd.isnull(string2)):\n",
    "        ele=string2.split(\";\")\n",
    "        for plat in ele:\n",
    "            if(plat not in platforms):\n",
    "                platforms.append(plat)\n",
    "platform_df=pd.DataFrame.from_dict({'Platform':platforms})\n",
    "platform_df.to_csv(\"../platforms.csv\")"
   ]
  },
  {
   "cell_type": "code",
   "execution_count": null,
   "metadata": {},
   "outputs": [],
   "source": [
    "frameworks_unclean=user_df.loc[:,\"FrameworkWorkedWith\"].tolist()\n",
    "frameworks_unclean_next=user_df.loc[:,\"FrameworkDesireNextYear\"].tolist()\n",
    "frameworks=[]\n",
    "for string1,string2 in list(zip(frameworks_unclean,frameworks_unclean_next)):\n",
    "    if(not pd.isnull(string1)):\n",
    "        ele=string1.split(\";\")\n",
    "        for plat in ele:\n",
    "            if(plat not in frameworks):\n",
    "                frameworks.append(plat)\n",
    "    if(not pd.isnull(string2)):\n",
    "        ele=string2.split(\";\")\n",
    "        for plat in ele:\n",
    "            if(plat not in frameworks):\n",
    "                frameworks.append(plat)\n",
    "print(frameworks)\n",
    "existing_frameworks=pd.read_excel(\"results/frameworks.xlsx\")\n",
    "print(type(existing_frameworks))\n",
    "existing_frameworks=existing_frameworks.iloc[:,0].tolist()\n",
    "existing_frameworks=[x.split(\"\\t\")[0] for x in existing_frameworks]\n",
    "print(len(existing_frameworks))\n",
    "for fr in frameworks:\n",
    "    if(fr not in existing_frameworks):\n",
    "        existing_frameworks.append(fr)\n",
    "framework_df=pd.DataFrame.from_dict({'frameworks':existing_frameworks})\n",
    "print(framework_df)\n",
    "framework_df.to_csv(\"results/frameworks.csv\")"
   ]
  }
 ],
 "metadata": {
  "kernelspec": {
   "display_name": "Python 3",
   "language": "python",
   "name": "python3"
  },
  "language_info": {
   "codemirror_mode": {
    "name": "ipython",
    "version": 3
   },
   "file_extension": ".py",
   "mimetype": "text/x-python",
   "name": "python",
   "nbconvert_exporter": "python",
   "pygments_lexer": "ipython3",
   "version": "3.7.6"
  }
 },
 "nbformat": 4,
 "nbformat_minor": 2
}
